{
 "cells": [
  {
   "cell_type": "code",
   "execution_count": 135,
   "metadata": {},
   "outputs": [
    {
     "name": "stderr",
     "output_type": "stream",
     "text": [
      "[nltk_data] Downloading package punkt to /Users/hanli/nltk_data...\n",
      "[nltk_data]   Package punkt is already up-to-date!\n"
     ]
    }
   ],
   "source": [
    "from django.http import JsonResponse\n",
    "from django.views.decorators.csrf import csrf_exempt\n",
    "import re\n",
    "import nltk\n",
    "nltk.download('punkt')\n",
    "import string\n",
    "import pandas as pd"
   ]
  },
  {
   "cell_type": "code",
   "execution_count": 136,
   "metadata": {},
   "outputs": [],
   "source": [
    "ban_wds = pd.read_csv('swearWords.csv',header=None)\n",
    "ban_wds = ban_wds.values.tolist()[0]\n"
   ]
  },
  {
   "cell_type": "code",
   "execution_count": 142,
   "metadata": {},
   "outputs": [],
   "source": [
    "#Filter function\n",
    "def word_dect(text):\n",
    "    text_cln = text.lower()\n",
    "    text_cln = re.sub('[^A-Za-z0-9]+', ' ', text_cln) #word tokenization and preporcessing\n",
    "    text_cln = re.sub(r'[^\\w\\s]', '', text_cln)\n",
    "    tokens = nltk.word_tokenize(text_cln)\n",
    "    for i in tokens:\n",
    "        if i in ban_wds:\n",
    "            return 'Sensitive word detected!' \n",
    "            break\n",
    "        else:\n",
    "            continue\n",
    "    return text\n"
   ]
  },
  {
   "cell_type": "code",
   "execution_count": 143,
   "metadata": {},
   "outputs": [],
   "source": [
    "@csrf_exempt\n",
    "def word_dect_view(request):\n",
    "    # check if the request method is POST\n",
    "    if request.method == 'POST':\n",
    "        # get the user text from the request body\n",
    "        user_text = request.POST.get('user_text')\n",
    "        \n",
    "        # apply word detection function\n",
    "        result = word_dect(user_text)\n",
    "\n",
    "        # return the result as a JSON response\n",
    "        return JsonResponse({'result': result})\n",
    "    \n",
    "    # if the request method is not POST, return an error\n",
    "    return JsonResponse({'error': 'Invalid request method.'})\n"
   ]
  }
 ],
 "metadata": {
  "kernelspec": {
   "display_name": "ds",
   "language": "python",
   "name": "python3"
  },
  "language_info": {
   "codemirror_mode": {
    "name": "ipython",
    "version": 3
   },
   "file_extension": ".py",
   "mimetype": "text/x-python",
   "name": "python",
   "nbconvert_exporter": "python",
   "pygments_lexer": "ipython3",
   "version": "3.10.6"
  },
  "orig_nbformat": 4
 },
 "nbformat": 4,
 "nbformat_minor": 2
}
